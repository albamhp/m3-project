{
 "cells": [
  {
   "cell_type": "markdown",
   "metadata": {},
   "source": [
    "# Classification\n",
    "\n",
    "## Implementation\n",
    "\n",
    "### Pipeline\n",
    "\n",
    "The process is divided intro 3 independent steps using a scikit `Pipeline`. Its input is a list of pictures, with the keypoints and the descriptors. The steps are:\n",
    "\n",
    "- SpatialPyramid: performs the clustering of the descriptors and calculates the histograms.\n",
    "- StandardScaler: standarizes each column of the feature matrix.\n",
    "- SVC: performs the classification.\n",
    "\n",
    "Internally, the pipeline uses a cache in order to speed up repeated operations.\n",
    "\n",
    "### GridSearchCV\n",
    "\n",
    "We use scikit class `GridSearchCV` in order to compute the parameter combinations. Internally, it performs cross-validation with the different combinations and returns the best result or, in our case, a table with all the results. This table is the put inside a pandas `DataFrame` and returned.\n",
    "\n",
    "We are using 5 as the cv parameter and creating as many jobs as ores in the computer.\n",
    "\n",
    "### Histogram intersection kernel\n",
    "\n",
    "We use the following implementation for the histogram intersection kernel:\n",
    "\n",
    "```python\n",
    "def histogram_intersection_kernel(x, u):\n",
    "    n_samples, n_features = x.shape\n",
    "    K = np.zeros((x.shape[0], u.shape[0]), dtype=np.float32)\n",
    "    for d in range(n_samples):\n",
    "        K[d, :] = np.sum(np.minimum(x[d], u), axis=1)\n",
    "    return K\n",
    "```"
   ]
  },
  {
   "cell_type": "code",
   "execution_count": 1,
   "metadata": {},
   "outputs": [],
   "source": [
    "from argparse import Namespace\n",
    "\n",
    "import numpy as np\n",
    "from matplotlib import pyplot as plt\n",
    "\n",
    "from descriptors.histogram_intersection_kernel import histogram_intersection_kernel\n",
    "from main import main\n",
    "\n",
    "\n",
    "def run_experiment(param_grid: dict):\n",
    "    args = Namespace(train_path='../data/MIT_split/train',\n",
    "                     test_path='../data/MIT_split/test',\n",
    "                     cache_path='../.cache')\n",
    "    return main(args, param_grid)\n"
   ]
  },
  {
   "cell_type": "markdown",
   "metadata": {},
   "source": [
    "Test different kernels and penalty parameter of the error term \"C\" for the classifier."
   ]
  },
  {
   "cell_type": "code",
   "execution_count": null,
   "metadata": {},
   "outputs": [],
   "source": [
    "param_grid = {\n",
    "    'classifier__kernel': ['linear', 'rbf', 'sigmoid', histogram_intersection_kernel],\n",
    "    'classifier__C': np.logspace(-4, 4, 9),\n",
    "}\n",
    "\n",
    "results = run_experiment(param_grid)\n",
    "results.loc[results.param_classifier__kernel == histogram_intersection_kernel, 'param_classifier__kernel'] = \\\n",
    "    \"histogram_intersection\"\n",
    "\n",
    "results.pivot(index='param_classifier__C', columns='param_classifier__kernel', values='mean_test_score') \\\n",
    "    .plot.line(logx=True)\n",
    "\n",
    "plt.xlabel('C')\n",
    "plt.ylabel('accuracy')\n",
    "plt.show()"
   ]
  },
  {
   "cell_type": "markdown",
   "metadata": {},
   "source": [
    "Comment results above"
   ]
  },
  {
   "cell_type": "markdown",
   "metadata": {},
   "source": [
    "Test different kernels and penalty parameter of the error term \"C\" for the classifier. Pyramid level is set to 1"
   ]
  },
  {
   "cell_type": "code",
   "execution_count": null,
   "metadata": {},
   "outputs": [],
   "source": [
    "param_grid = {\n",
    "    'classifier__kernel': ['linear', 'rbf', 'sigmoid', histogram_intersection_kernel],\n",
    "    'classifier__C': np.logspace(-4, 4, 9),\n",
    "    'transformer__levels': [1]\n",
    "}\n",
    "\n",
    "results = run_experiment(param_grid)\n",
    "results.loc[results.param_classifier__kernel == histogram_intersection_kernel, 'param_classifier__kernel'] = \\\n",
    "    \"histogram_intersection\"\n",
    "\n",
    "results.pivot(index='param_classifier__C', columns='param_classifier__kernel', values='mean_test_score') \\\n",
    "    .plot.line(logx=True)\n",
    "\n",
    "plt.xlabel('C')\n",
    "plt.ylabel('accuracy')\n",
    "plt.show()"
   ]
  },
  {
   "cell_type": "markdown",
   "metadata": {},
   "source": [
    "Comment results above. RBF should perform much better."
   ]
  },
  {
   "cell_type": "markdown",
   "metadata": {},
   "source": [
    "Test different kernels and kernel coefficients for the classifier."
   ]
  },
  {
   "cell_type": "code",
   "execution_count": null,
   "metadata": {},
   "outputs": [],
   "source": [
    "param_grid = {\n",
    "    'classifier__kernel': ['linear', 'rbf', 'sigmoid', histogram_intersection_kernel],\n",
    "    'classifier__gamma': np.logspace(-4, 4, 9)\n",
    "}\n",
    "\n",
    "results = run_experiment(param_grid)\n",
    "results.loc[results.param_classifier__kernel == histogram_intersection_kernel, 'param_classifier__kernel'] = \\\n",
    "    \"histogram_intersection\"\n",
    "\n",
    "results.pivot(index='param_classifier__gamma', columns='param_classifier__kernel', values='mean_test_score') \\\n",
    "    .plot.line(logx=True)\n",
    "\n",
    "plt.xlabel('gamma')\n",
    "plt.ylabel('accuracy')\n",
    "plt.legend(loc='best')\n",
    "\n",
    "plt.show()"
   ]
  },
  {
   "cell_type": "markdown",
   "metadata": {},
   "source": [
    "Comment results above"
   ]
  },
  {
   "cell_type": "markdown",
   "metadata": {},
   "source": [
    "Test the classifier using different amounts of samples randomly selected form the descriptors, which were obtained using dense_sift with different scale factors."
   ]
  },
  {
   "cell_type": "code",
   "execution_count": null,
   "metadata": {},
   "outputs": [],
   "source": [
    "param_grid = {\n",
    "    'transformer__samples': np.linspace(10000, 100000, 5),\n",
    "}\n",
    "\n",
    "results = run_experiment(param_grid)\n",
    "\n",
    "results.plot.line(x='param_transformer__samples', y='mean_test_score')\n",
    "\n",
    "plt.plot(results.param_transformer__samples, results.mean_test_score)\n",
    "\n",
    "plt.xlabel('samples')\n",
    "plt.ylabel('accuracy')\n",
    "plt.show()"
   ]
  },
  {
   "cell_type": "markdown",
   "metadata": {},
   "source": [
    "Comment results above"
   ]
  },
  {
   "cell_type": "markdown",
   "metadata": {},
   "source": [
    "Test different normalization for the descriptors."
   ]
  },
  {
   "cell_type": "code",
   "execution_count": null,
   "metadata": {},
   "outputs": [],
   "source": [
    "param_grid = {\n",
    "    'transformer__norm': ['l1', 'l2', 'power'],\n",
    "}\n",
    "\n",
    "results = run_experiment(param_grid)\n",
    "\n",
    "# Colormap needed until a bug is fixed in next version of pandas.\n",
    "results.plot.bar(x='param_transformer__norm', y='mean_test_score', colormap='jet')\n",
    "\n",
    "plt.xlabel('norm')\n",
    "plt.ylabel('accuracy')\n",
    "plt.show()"
   ]
  },
  {
   "cell_type": "markdown",
   "metadata": {},
   "source": [
    "Comment results above"
   ]
  },
  {
   "cell_type": "markdown",
   "metadata": {},
   "source": [
    "Test different number of clusters, multiples of 2, for the min_batch k-means."
   ]
  },
  {
   "cell_type": "code",
   "execution_count": null,
   "metadata": {},
   "outputs": [],
   "source": [
    "param_grid = {\n",
    "    'transformer__n_cluster': np.logspace(8, 11, 8, base=2),\n",
    "}\n",
    "\n",
    "results = run_experiment(param_grid)\n",
    "\n",
    "results.plot.line(x='param_transformer__n_cluster', y='mean_test_score')\n",
    "\n",
    "plt.xlabel('n_cluster')\n",
    "plt.ylabel('accuracy')\n",
    "plt.show()"
   ]
  },
  {
   "cell_type": "markdown",
   "metadata": {},
   "source": [
    "Comment results above"
   ]
  },
  {
   "cell_type": "code",
   "execution_count": null,
   "metadata": {},
   "outputs": [],
   "source": []
  }
 ],
 "metadata": {
  "kernelspec": {
   "display_name": "Python 3",
   "language": "python",
   "name": "python3"
  },
  "language_info": {
   "codemirror_mode": {
    "name": "ipython",
    "version": 3
   },
   "file_extension": ".py",
   "mimetype": "text/x-python",
   "name": "python",
   "nbconvert_exporter": "python",
   "pygments_lexer": "ipython3",
   "version": "3.7.1"
  }
 },
 "nbformat": 4,
 "nbformat_minor": 1
}
