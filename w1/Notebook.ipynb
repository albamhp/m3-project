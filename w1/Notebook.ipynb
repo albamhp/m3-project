{
 "cells": [
  {
   "cell_type": "markdown",
   "metadata": {},
   "source": [
    "The source of the algorithm is inside several .py files. Accessing through bovw's run method we can configure the execution in order to iterate over the desired parameters. If a parameter has exactly one value, only that will be use. If it has tree, a np.linspace will be created with them."
   ]
  },
  {
   "cell_type": "code",
   "execution_count": 3,
   "metadata": {},
   "outputs": [],
   "source": [
    "from bovw import run"
   ]
  },
  {
   "cell_type": "markdown",
   "metadata": {},
   "source": [
    "Default method to run the experiments"
   ]
  },
  {
   "cell_type": "code",
   "execution_count": 7,
   "metadata": {},
   "outputs": [],
   "source": [
    "from argparse import Namespace\n",
    "import numpy as np\n",
    "from matplotlib import pyplot as plt\n",
    "\n",
    "def run_experiment(method=('sift',), n_features=(300,), step_size=(16,), n_clusters=(128,), n_neighbors=(5,), distance=(\n",
    "'euclidean',)):\n",
    "    args = Namespace(train_path='../data/MIT_split/train',\n",
    "                     test_path='../data/MIT_split/test',\n",
    "                     method=method,\n",
    "                     n_features=n_features,\n",
    "                     step_size=step_size,\n",
    "                     n_clusters=n_clusters,\n",
    "                     n_neighbors=n_neighbors,\n",
    "                     distance=distance)\n",
    "    return run(args)\n"
   ]
  },
  {
   "cell_type": "markdown",
   "metadata": {},
   "source": [
    "Test different amounts of local features over SIFT."
   ]
  },
  {
   "cell_type": "code",
   "execution_count": 8,
   "metadata": {},
   "outputs": [
    {
     "name": "stdout",
     "output_type": "stream",
     "text": [
      "method: sift, n_features: 100, step_size: 16\n",
      "extract train descriptors: 17.902287s\n",
      "extract test descriptors: 7.625538s\n",
      "n_clusters: 128, n_neighbors: 5, distance: euclidean\n",
      "classify: 4.637516s\n",
      "method: sift, n_features: 200, step_size: 16\n",
      "extract train descriptors: 22.108912s\n",
      "extract test descriptors: 11.463330s\n",
      "n_clusters: 128, n_neighbors: 5, distance: euclidean\n",
      "classify: 7.193696s\n",
      "method: sift, n_features: 300, step_size: 16\n",
      "extract train descriptors: 29.198642s\n",
      "extract test descriptors: 16.942751s\n",
      "n_clusters: 128, n_neighbors: 5, distance: euclidean\n",
      "classify: 10.436658s\n",
      "method: sift, n_features: 400, step_size: 16\n",
      "extract train descriptors: 31.382071s\n",
      "extract test descriptors: 15.926901s\n",
      "n_clusters: 128, n_neighbors: 5, distance: euclidean\n",
      "classify: 11.278377s\n",
      "method: sift, n_features: 500, step_size: 16\n",
      "extract train descriptors: 34.794859s\n",
      "extract test descriptors: 13.349726s\n",
      "n_clusters: 128, n_neighbors: 5, distance: euclidean\n",
      "classify: 9.735883s\n",
      "method: sift, n_features: 600, step_size: 16\n",
      "extract train descriptors: 31.393949s\n",
      "extract test descriptors: 14.781279s\n",
      "n_clusters: 128, n_neighbors: 5, distance: euclidean\n",
      "classify: 11.899195s\n",
      "method: sift, n_features: 700, step_size: 16\n",
      "extract train descriptors: 29.295620s\n",
      "extract test descriptors: 14.938225s\n",
      "n_clusters: 128, n_neighbors: 5, distance: euclidean\n",
      "classify: 11.062450s\n",
      "method: sift, n_features: 800, step_size: 16\n",
      "extract train descriptors: 34.134071s\n",
      "extract test descriptors: 15.253140s\n",
      "n_clusters: 128, n_neighbors: 5, distance: euclidean\n",
      "classify: 14.071495s\n",
      "method: sift, n_features: 900, step_size: 16\n",
      "extract train descriptors: 35.343683s\n",
      "extract test descriptors: 15.817935s\n",
      "n_clusters: 128, n_neighbors: 5, distance: euclidean\n",
      "classify: 16.870599s\n",
      "method: sift, n_features: 1000, step_size: 16\n",
      "extract train descriptors: 33.452346s\n",
      "extract test descriptors: 15.978884s\n",
      "n_clusters: 128, n_neighbors: 5, distance: euclidean\n",
      "classify: 12.204093s\n"
     ]
    },
    {
     "data": {
      "image/png": "[encoded data removed]",
      "text/plain": [
       "<Figure size 432x288 with 1 Axes>"
      ]
     },
     "metadata": {
      "needs_background": "light"
     },
     "output_type": "display_data"
    }
   ],
   "source": [
    "results = run_experiment(n_features=[100, 1000, 10])\n",
    "plt.plot(results['n_features'], results['accuracy'])\n",
    "plt.xlabel('n_features')\n",
    "plt.ylabel('accuracy')\n",
    "plt.show()"
   ]
  },
  {
   "cell_type": "markdown",
   "metadata": {},
   "source": [
    "The accuracy from 500 features onwards is more or less constant.\n",
    "\n",
    "SIFT vs DenseSIFT."
   ]
  },
  {
   "cell_type": "code",
   "execution_count": 10,
   "metadata": {},
   "outputs": [
    {
     "name": "stdout",
     "output_type": "stream",
     "text": [
      "method: sift, n_features: 300, step_size: 16\n",
      "extract train descriptors: 26.532505s\n",
      "extract test descriptors: 16.542740s\n",
      "n_clusters: 128, n_neighbors: 5, distance: euclidean\n",
      "classify: 10.403633s\n",
      "method: dense_sift, n_features: 300, step_size: 16\n",
      "extract train descriptors: 272.073663s\n",
      "extract test descriptors: 110.206715s\n",
      "n_clusters: 128, n_neighbors: 5, distance: euclidean\n",
      "classify: 8.365322s\n"
     ]
    },
    {
     "data": {
      "image/png": "[encoded data removed]",
      "text/plain": [
       "<Figure size 432x288 with 1 Axes>"
      ]
     },
     "metadata": {
      "needs_background": "light"
     },
     "output_type": "display_data"
    }
   ],
   "source": [
    "results = run_experiment(method=['sift', 'dense_sift'])\n",
    "x = np.arange(2)\n",
    "plt.bar(x, results['accuracy'])\n",
    "plt.xticks(x, results['method'])\n",
    "plt.ylabel('accuracy')\n",
    "plt.show()"
   ]
  },
  {
   "cell_type": "markdown",
   "metadata": {},
   "source": [
    "In the graph above, we can crearly observer how dense_sift outperforms sift.\n",
    "\n",
    "Test different amounts of codebook sizes k."
   ]
  },
  {
   "cell_type": "code",
   "execution_count": 13,
   "metadata": {},
   "outputs": [
    {
     "name": "stdout",
     "output_type": "stream",
     "text": [
      "method: sift, n_features: 300, step_size: 16\n",
      "extract train descriptors: 46.595155s\n",
      "extract test descriptors: 26.661724s\n",
      "n_clusters: 80, n_neighbors: 5, distance: euclidean\n",
      "classify: 5.824165s\n",
      "n_clusters: 90, n_neighbors: 5, distance: euclidean\n",
      "classify: 7.114716s\n",
      "n_clusters: 100, n_neighbors: 5, distance: euclidean\n",
      "classify: 7.350647s\n",
      "n_clusters: 110, n_neighbors: 5, distance: euclidean\n",
      "classify: 7.710569s\n",
      "n_clusters: 120, n_neighbors: 5, distance: euclidean\n",
      "classify: 8.437291s\n",
      "n_clusters: 130, n_neighbors: 5, distance: euclidean\n",
      "classify: 10.087770s\n",
      "n_clusters: 140, n_neighbors: 5, distance: euclidean\n",
      "classify: 10.403669s\n",
      "n_clusters: 150, n_neighbors: 5, distance: euclidean\n",
      "classify: 11.240402s\n",
      "n_clusters: 160, n_neighbors: 5, distance: euclidean\n",
      "classify: 11.327374s\n",
      "n_clusters: 170, n_neighbors: 5, distance: euclidean\n",
      "classify: 11.993160s\n",
      "method: dense_sift, n_features: 300, step_size: 16\n",
      "extract train descriptors: 262.157051s\n",
      "extract test descriptors: 114.142533s\n",
      "n_clusters: 80, n_neighbors: 5, distance: euclidean\n",
      "classify: 6.630007s\n",
      "n_clusters: 90, n_neighbors: 5, distance: euclidean\n",
      "classify: 6.888872s\n",
      "n_clusters: 100, n_neighbors: 5, distance: euclidean\n",
      "classify: 6.744858s\n",
      "n_clusters: 110, n_neighbors: 5, distance: euclidean\n",
      "classify: 8.030426s\n",
      "n_clusters: 120, n_neighbors: 5, distance: euclidean\n",
      "classify: 7.958440s\n",
      "n_clusters: 130, n_neighbors: 5, distance: euclidean\n",
      "classify: 8.897168s\n",
      "n_clusters: 140, n_neighbors: 5, distance: euclidean\n",
      "classify: 8.694200s\n",
      "n_clusters: 150, n_neighbors: 5, distance: euclidean\n",
      "classify: 9.669904s\n",
      "n_clusters: 160, n_neighbors: 5, distance: euclidean\n",
      "classify: 8.958136s\n",
      "n_clusters: 170, n_neighbors: 5, distance: euclidean\n",
      "classify: 12.139113s\n"
     ]
    },
    {
     "data": {
      "image/png": "[encoded data removed]",
      "text/plain": [
       "<Figure size 432x288 with 1 Axes>"
      ]
     },
     "metadata": {
      "needs_background": "light"
     },
     "output_type": "display_data"
    }
   ],
   "source": [
    "results = run_experiment(method=['sift', 'dense_sift'], n_clusters=[80, 170, 10])\n",
    "results_sift = results.loc[results['method'] == 'sift']\n",
    "results_dense_sift = results.loc[results['method'] == 'dense_sift']\n",
    "plt.plot(results_sift['n_clusters'], results_sift['accuracy'], label='sift')\n",
    "plt.plot(results_dense_sift['n_clusters'], results_dense_sift['accuracy'], label='dense_sift')\n",
    "plt.xlabel('n_clusters')\n",
    "plt.ylabel('accuracy')\n",
    "plt.legend()\n",
    "plt.show()"
   ]
  },
  {
   "cell_type": "markdown",
   "metadata": {},
   "source": [
    "Test different values of k for the k-nn classifier."
   ]
  },
  {
   "cell_type": "code",
   "execution_count": 15,
   "metadata": {},
   "outputs": [
    {
     "name": "stdout",
     "output_type": "stream",
     "text": [
      "method: sift, n_features: 300, step_size: 16\n",
      "extract train descriptors: 52.186525s\n",
      "extract test descriptors: 28.859680s\n",
      "n_clusters: 128, n_neighbors: 3, distance: euclidean\n",
      "classify: 10.008792s\n",
      "n_clusters: 128, n_neighbors: 5, distance: euclidean\n",
      "classify: 10.985500s\n",
      "n_clusters: 128, n_neighbors: 7, distance: euclidean\n",
      "classify: 10.176724s\n",
      "n_clusters: 128, n_neighbors: 9, distance: euclidean\n",
      "classify: 10.531525s\n",
      "n_clusters: 128, n_neighbors: 11, distance: euclidean\n",
      "classify: 10.504840s\n",
      "n_clusters: 128, n_neighbors: 13, distance: euclidean\n",
      "classify: 11.223222s\n",
      "n_clusters: 128, n_neighbors: 15, distance: euclidean\n",
      "classify: 10.259715s\n",
      "n_clusters: 128, n_neighbors: 17, distance: euclidean\n",
      "classify: 10.237722s\n",
      "n_clusters: 128, n_neighbors: 19, distance: euclidean\n",
      "classify: 10.152749s\n",
      "n_clusters: 128, n_neighbors: 21, distance: euclidean\n",
      "classify: 10.428661s\n",
      "method: dense_sift, n_features: 300, step_size: 16\n",
      "extract train descriptors: 296.141063s\n",
      "extract test descriptors: 127.687011s\n",
      "n_clusters: 128, n_neighbors: 3, distance: euclidean\n",
      "classify: 8.251499s\n",
      "n_clusters: 128, n_neighbors: 5, distance: euclidean\n",
      "classify: 8.755410s\n",
      "n_clusters: 128, n_neighbors: 7, distance: euclidean\n",
      "classify: 8.588593s\n",
      "n_clusters: 128, n_neighbors: 9, distance: euclidean\n",
      "classify: 8.791065s\n",
      "n_clusters: 128, n_neighbors: 11, distance: euclidean\n",
      "classify: 8.216867s\n",
      "n_clusters: 128, n_neighbors: 13, distance: euclidean\n",
      "classify: 8.154847s\n",
      "n_clusters: 128, n_neighbors: 15, distance: euclidean\n",
      "classify: 8.205618s\n",
      "n_clusters: 128, n_neighbors: 17, distance: euclidean\n",
      "classify: 8.725458s\n",
      "n_clusters: 128, n_neighbors: 19, distance: euclidean\n",
      "classify: 8.767246s\n",
      "n_clusters: 128, n_neighbors: 21, distance: euclidean\n",
      "classify: 8.484796s\n"
     ]
    },
    {
     "data": {
      "image/png": "[encoded data removed]",
      "text/plain": [
       "<Figure size 432x288 with 1 Axes>"
      ]
     },
     "metadata": {
      "needs_background": "light"
     },
     "output_type": "display_data"
    }
   ],
   "source": [
    "results = run_experiment(method=['sift', 'dense_sift'], n_neighbors=[3, 21, 10])\n",
    "results_sift = results.loc[results['method'] == 'sift']\n",
    "results_dense_sift = results.loc[results['method'] == 'dense_sift']\n",
    "plt.plot(results_sift['n_neighbors'], results_sift['accuracy'], label='sift')\n",
    "plt.plot(results_dense_sift['n_neighbors'], results_dense_sift['accuracy'], label='dense_sift')\n",
    "plt.xlabel('n_neighbors')\n",
    "plt.ylabel('accuracy')\n",
    "plt.legend()\n",
    "plt.show()"
   ]
  },
  {
   "cell_type": "markdown",
   "metadata": {},
   "source": [
    "Test different distances for the k-nn classifier."
   ]
  },
  {
   "cell_type": "code",
   "execution_count": 16,
   "metadata": {},
   "outputs": [
    {
     "name": "stdout",
     "output_type": "stream",
     "text": [
      "method: sift, n_features: 300, step_size: 16\n",
      "extract train descriptors: 49.930168s\n",
      "extract test descriptors: 28.103135s\n",
      "n_clusters: 128, n_neighbors: 5, distance: euclidean\n",
      "classify: 10.254057s\n",
      "n_clusters: 128, n_neighbors: 5, distance: manhattan\n",
      "classify: 10.279459s\n",
      "n_clusters: 128, n_neighbors: 5, distance: chebyshev\n",
      "classify: 10.231800s\n"
     ]
    },
    {
     "data": {
      "image/png": "[encoded data removed]",
      "text/plain": [
       "<Figure size 432x288 with 1 Axes>"
      ]
     },
     "metadata": {
      "needs_background": "light"
     },
     "output_type": "display_data"
    }
   ],
   "source": [
    "results = run_experiment(distance=['euclidean', 'manhattan', 'chebyshev'])\n",
    "x = np.arange(3)\n",
    "plt.bar(x, results['accuracy'])\n",
    "plt.xticks(x, results['distance'])\n",
    "plt.ylabel('accuracy')\n",
    "plt.show()"
   ]
  },
  {
   "cell_type": "code",
   "execution_count": null,
   "metadata": {},
   "outputs": [],
   "source": []
  }
 ],
 "metadata": {
  "kernelspec": {
   "display_name": "Python 3",
   "language": "python",
   "name": "python3"
  },
  "language_info": {
   "codemirror_mode": {
    "name": "ipython",
    "version": 3
   },
   "file_extension": ".py",
   "mimetype": "text/x-python",
   "name": "python",
   "nbconvert_exporter": "python",
   "pygments_lexer": "ipython3",
   "version": "3.7.1"
  }
 },
 "nbformat": 4,
 "nbformat_minor": 2
}
