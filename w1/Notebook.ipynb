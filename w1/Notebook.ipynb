{
 "cells": [
  {
   "cell_type": "markdown",
   "metadata": {},
   "source": [
    "The source of the algorithm is inside several .py files. Accessing through bovw's run method we can configure the execution in order to iterate over the desired parameters. If a parameter has exactly one value, only that will be use. If it has tree, a np.linspace will be created with them."
   ]
  },
  {
   "cell_type": "code",
   "execution_count": 1,
   "metadata": {
    "scrolled": false
   },
   "outputs": [],
   "source": [
    "from bovw import run"
   ]
  },
  {
   "cell_type": "markdown",
   "metadata": {},
   "source": [
    "We use the following default method to run the experiments."
   ]
  },
  {
   "cell_type": "code",
   "execution_count": 2,
   "metadata": {
    "scrolled": false
   },
   "outputs": [],
   "source": [
    "from argparse import Namespace\n",
    "import numpy as np\n",
    "from matplotlib import pyplot as plt\n",
    "\n",
    "def run_experiment(method=('sift',), n_features=(300,), step_size=(16,), n_clusters=(128,), n_neighbors=(5,), \n",
    "                   distance=('euclidean',), confusion_matrix=False):\n",
    "    args = Namespace(train_path='../data/MIT_split/train',\n",
    "                     test_path='../data/MIT_split/test',\n",
    "                     method=method,\n",
    "                     n_features=n_features,\n",
    "                     step_size=step_size,\n",
    "                     n_clusters=n_clusters,\n",
    "                     n_neighbors=n_neighbors,\n",
    "                     distance=distance,\n",
    "                     confusion_matrix=confusion_matrix)\n",
    "    return run(args)"
   ]
  },
  {
   "cell_type": "markdown",
   "metadata": {},
   "source": [
    "#### Test different amounts of local features using SIFT\n",
    "If we don't have enough features the results will be bad but if we have too many the computational time will increase too much. We should find a compromise between both."
   ]
  },
  {
   "cell_type": "code",
   "execution_count": 3,
   "metadata": {
    "scrolled": false
   },
   "outputs": [
    {
     "name": "stdout",
     "output_type": "stream",
     "text": [
      "method: sift, n_features: 100, step_size: 16\n",
      "extract train descriptors: 18.603552s\n",
      "extract test descriptors: 7.599567s\n",
      "n_clusters: 128, n_neighbors: 5, distance: euclidean\n",
      "train: 4.197656s\n",
      "test: 0.610805s\n",
      "method: sift, n_features: 200, step_size: 16\n",
      "extract train descriptors: 22.811687s\n",
      "extract test descriptors: 11.511326s\n",
      "n_clusters: 128, n_neighbors: 5, distance: euclidean\n",
      "train: 6.533908s\n",
      "test: 0.802732s\n",
      "method: sift, n_features: 300, step_size: 16\n",
      "extract train descriptors: 28.114998s\n",
      "extract test descriptors: 14.967225s\n",
      "n_clusters: 128, n_neighbors: 5, distance: euclidean\n",
      "train: 8.782188s\n",
      "test: 0.902711s\n",
      "method: sift, n_features: 400, step_size: 16\n",
      "extract train descriptors: 31.633871s\n",
      "extract test descriptors: 15.348086s\n",
      "n_clusters: 128, n_neighbors: 5, distance: euclidean\n",
      "train: 11.097447s\n",
      "test: 1.025672s\n",
      "method: sift, n_features: 500, step_size: 16\n",
      "extract train descriptors: 32.590565s\n",
      "extract test descriptors: 14.013513s\n",
      "n_clusters: 128, n_neighbors: 5, distance: euclidean\n",
      "train: 9.027110s\n",
      "test: 1.014675s\n",
      "method: sift, n_features: 600, step_size: 16\n",
      "extract train descriptors: 29.442574s\n",
      "extract test descriptors: 14.557365s\n",
      "n_clusters: 128, n_neighbors: 5, distance: euclidean\n",
      "train: 11.270391s\n",
      "test: 1.062648s\n",
      "method: sift, n_features: 700, step_size: 16\n",
      "extract train descriptors: 30.350282s\n",
      "extract test descriptors: 14.201465s\n",
      "n_clusters: 128, n_neighbors: 5, distance: euclidean\n",
      "train: 10.486631s\n",
      "test: 1.095649s\n",
      "method: sift, n_features: 800, step_size: 16\n",
      "extract train descriptors: 31.619876s\n",
      "extract test descriptors: 15.392071s\n",
      "n_clusters: 128, n_neighbors: 5, distance: euclidean\n",
      "train: 11.045475s\n",
      "test: 1.131638s\n",
      "method: sift, n_features: 900, step_size: 16\n",
      "extract train descriptors: 32.946451s\n",
      "extract test descriptors: 15.573026s\n",
      "n_clusters: 128, n_neighbors: 5, distance: euclidean\n",
      "train: 13.053833s\n",
      "test: 1.139623s\n",
      "method: sift, n_features: 1000, step_size: 16\n",
      "extract train descriptors: 32.080779s\n",
      "extract test descriptors: 16.109842s\n",
      "n_clusters: 128, n_neighbors: 5, distance: euclidean\n",
      "train: 11.557300s\n",
      "test: 1.156630s\n"
     ]
    },
    {
     "data": {
      "image/png": "[encoded data removed]",
      "text/plain": [
       "<Figure size 432x288 with 1 Axes>"
      ]
     },
     "metadata": {
      "needs_background": "light"
     },
     "output_type": "display_data"
    }
   ],
   "source": [
    "results = run_experiment(n_features=[100, 1000, 10])\n",
    "plt.plot(results['n_features'], results['accuracy'])\n",
    "plt.xlabel('n_features')\n",
    "plt.ylabel('accuracy')\n",
    "plt.show()"
   ]
  },
  {
   "cell_type": "markdown",
   "metadata": {},
   "source": [
    "The accuracy from 500 features onwards is more or less constant. So a value between 500 and 600 should work properly."
   ]
  },
  {
   "cell_type": "markdown",
   "metadata": {},
   "source": [
    "#### SIFT vs DenseSIFT\n",
    "Dense SIFT consists in running SIFT on a dense gird of locations at a fixed scale and orientation. This kind of descriptors have proven to yield better results for image classification tasks."
   ]
  },
  {
   "cell_type": "code",
   "execution_count": 4,
   "metadata": {
    "scrolled": false
   },
   "outputs": [
    {
     "name": "stdout",
     "output_type": "stream",
     "text": [
      "method: sift, n_features: 300, step_size: 16\n",
      "extract train descriptors: 23.767440s\n",
      "extract test descriptors: 13.591648s\n",
      "n_clusters: 128, n_neighbors: 5, distance: euclidean\n",
      "train: 8.685219s\n",
      "test: 0.877719s\n",
      "method: dense_sift, n_features: 300, step_size: 16\n",
      "extract train descriptors: 266.740584s\n",
      "extract test descriptors: 114.751260s\n",
      "n_clusters: 128, n_neighbors: 5, distance: euclidean\n",
      "train: 6.864801s\n",
      "test: 0.856726s\n"
     ]
    },
    {
     "data": {
      "image/png": "[encoded data removed]",
      "text/plain": [
       "<Figure size 432x288 with 1 Axes>"
      ]
     },
     "metadata": {
      "needs_background": "light"
     },
     "output_type": "display_data"
    }
   ],
   "source": [
    "results = run_experiment(method=['sift', 'dense_sift'])\n",
    "x = np.arange(2)\n",
    "plt.bar(x, results['accuracy'])\n",
    "plt.xticks(x, results['method'])\n",
    "plt.xlabel('method')\n",
    "plt.ylabel('accuracy')\n",
    "plt.show()"
   ]
  },
  {
   "cell_type": "markdown",
   "metadata": {},
   "source": [
    "In the graph above, we can crearly observe how `dense_sift` outperforms `sift`."
   ]
  },
  {
   "cell_type": "markdown",
   "metadata": {},
   "source": [
    "#### Test different amounts of codebook sizes k"
   ]
  },
  {
   "cell_type": "code",
   "execution_count": 5,
   "metadata": {
    "scrolled": false
   },
   "outputs": [
    {
     "name": "stdout",
     "output_type": "stream",
     "text": [
      "method: sift, n_features: 300, step_size: 16\n",
      "extract train descriptors: 22.226885s\n",
      "extract test descriptors: 13.105830s\n",
      "n_clusters: 80, n_neighbors: 5, distance: euclidean\n",
      "train: 5.007398s\n",
      "test: 0.777766s\n",
      "n_clusters: 93, n_neighbors: 5, distance: euclidean\n",
      "train: 6.300995s\n",
      "test: 0.830722s\n",
      "n_clusters: 106, n_neighbors: 5, distance: euclidean\n",
      "train: 6.318977s\n",
      "test: 0.841731s\n",
      "n_clusters: 120, n_neighbors: 5, distance: euclidean\n",
      "train: 7.458624s\n",
      "test: 0.880706s\n",
      "n_clusters: 133, n_neighbors: 5, distance: euclidean\n",
      "train: 8.908149s\n",
      "test: 0.901711s\n",
      "n_clusters: 146, n_neighbors: 5, distance: euclidean\n",
      "train: 9.383008s\n",
      "test: 0.922693s\n",
      "n_clusters: 160, n_neighbors: 5, distance: euclidean\n",
      "train: 9.914825s\n",
      "test: 0.962689s\n",
      "n_clusters: 173, n_neighbors: 5, distance: euclidean\n",
      "train: 11.419344s\n",
      "test: 0.985684s\n",
      "n_clusters: 186, n_neighbors: 5, distance: euclidean\n",
      "train: 11.439354s\n",
      "test: 1.000668s\n",
      "n_clusters: 200, n_neighbors: 5, distance: euclidean\n",
      "train: 11.865213s\n",
      "test: 1.019661s\n",
      "n_clusters: 213, n_neighbors: 5, distance: euclidean\n",
      "train: 12.534998s\n",
      "test: 1.177761s\n",
      "n_clusters: 226, n_neighbors: 5, distance: euclidean\n",
      "train: 13.980535s\n",
      "test: 1.164628s\n",
      "n_clusters: 240, n_neighbors: 5, distance: euclidean\n",
      "train: 13.977520s\n",
      "test: 1.206617s\n",
      "n_clusters: 253, n_neighbors: 5, distance: euclidean\n",
      "train: 14.627320s\n",
      "test: 1.261605s\n",
      "n_clusters: 266, n_neighbors: 5, distance: euclidean\n",
      "train: 16.406747s\n",
      "test: 1.236605s\n",
      "n_clusters: 280, n_neighbors: 5, distance: euclidean\n",
      "train: 17.458411s\n",
      "test: 1.311580s\n",
      "n_clusters: 293, n_neighbors: 5, distance: euclidean\n",
      "train: 18.151189s\n",
      "test: 1.313600s\n",
      "n_clusters: 306, n_neighbors: 5, distance: euclidean\n",
      "train: 18.645031s\n",
      "test: 1.328586s\n",
      "n_clusters: 320, n_neighbors: 5, distance: euclidean\n",
      "train: 19.626710s\n",
      "test: 1.335564s\n",
      "n_clusters: 333, n_neighbors: 5, distance: euclidean\n",
      "train: 20.600422s\n",
      "test: 1.401535s\n",
      "n_clusters: 346, n_neighbors: 5, distance: euclidean\n",
      "train: 21.482134s\n",
      "test: 1.457522s\n",
      "n_clusters: 360, n_neighbors: 5, distance: euclidean\n",
      "train: 22.351856s\n",
      "test: 1.470517s\n",
      "n_clusters: 373, n_neighbors: 5, distance: euclidean\n",
      "train: 23.390511s\n",
      "test: 1.579513s\n",
      "n_clusters: 386, n_neighbors: 5, distance: euclidean\n",
      "train: 23.918329s\n",
      "test: 1.568488s\n",
      "n_clusters: 400, n_neighbors: 5, distance: euclidean\n",
      "train: 25.001996s\n",
      "test: 1.631477s\n",
      "method: dense_sift, n_features: 300, step_size: 16\n",
      "extract train descriptors: 265.636982s\n",
      "extract test descriptors: 112.557950s\n",
      "n_clusters: 80, n_neighbors: 5, distance: euclidean\n",
      "train: 5.199347s\n",
      "test: 0.781738s\n",
      "n_clusters: 93, n_neighbors: 5, distance: euclidean\n",
      "train: 5.415267s\n",
      "test: 0.822736s\n",
      "n_clusters: 106, n_neighbors: 5, distance: euclidean\n",
      "train: 6.065056s\n",
      "test: 0.836720s\n",
      "n_clusters: 120, n_neighbors: 5, distance: euclidean\n",
      "train: 6.429954s\n",
      "test: 0.872709s\n",
      "n_clusters: 133, n_neighbors: 5, distance: euclidean\n",
      "train: 6.926793s\n",
      "test: 0.880707s\n",
      "n_clusters: 146, n_neighbors: 5, distance: euclidean\n",
      "train: 7.302674s\n",
      "test: 0.899700s\n",
      "n_clusters: 160, n_neighbors: 5, distance: euclidean\n",
      "train: 7.930461s\n",
      "test: 0.930702s\n",
      "n_clusters: 173, n_neighbors: 5, distance: euclidean\n",
      "train: 8.354337s\n",
      "test: 0.973677s\n",
      "n_clusters: 186, n_neighbors: 5, distance: euclidean\n",
      "train: 8.982125s\n",
      "test: 0.998663s\n",
      "n_clusters: 200, n_neighbors: 5, distance: euclidean\n",
      "train: 12.694936s\n",
      "test: 1.006677s\n",
      "n_clusters: 213, n_neighbors: 5, distance: euclidean\n",
      "train: 13.626648s\n",
      "test: 1.144622s\n",
      "n_clusters: 226, n_neighbors: 5, distance: euclidean\n",
      "train: 14.198454s\n",
      "test: 1.165696s\n",
      "n_clusters: 240, n_neighbors: 5, distance: euclidean\n",
      "train: 14.993212s\n",
      "test: 1.183762s\n",
      "n_clusters: 253, n_neighbors: 5, distance: euclidean\n",
      "train: 15.608003s\n",
      "test: 1.237684s\n",
      "n_clusters: 266, n_neighbors: 5, distance: euclidean\n",
      "train: 16.271803s\n",
      "test: 1.251597s\n",
      "n_clusters: 280, n_neighbors: 5, distance: euclidean\n",
      "train: 17.153508s\n",
      "test: 1.269707s\n",
      "n_clusters: 293, n_neighbors: 5, distance: euclidean\n",
      "train: 17.941255s\n",
      "test: 1.294586s\n",
      "n_clusters: 306, n_neighbors: 5, distance: euclidean\n",
      "train: 18.890935s\n",
      "test: 1.481567s\n",
      "n_clusters: 320, n_neighbors: 5, distance: euclidean\n",
      "train: 19.925620s\n",
      "test: 1.359565s\n",
      "n_clusters: 333, n_neighbors: 5, distance: euclidean\n",
      "train: 20.353484s\n",
      "test: 1.429542s\n",
      "n_clusters: 346, n_neighbors: 5, distance: euclidean\n",
      "train: 21.187216s\n",
      "test: 1.391572s\n",
      "n_clusters: 360, n_neighbors: 5, distance: euclidean\n",
      "train: 22.257857s\n",
      "test: 1.434541s\n",
      "n_clusters: 373, n_neighbors: 5, distance: euclidean\n",
      "train: 22.713740s\n",
      "test: 1.455522s\n",
      "n_clusters: 386, n_neighbors: 5, distance: euclidean\n",
      "train: 23.595445s\n",
      "test: 1.500520s\n",
      "n_clusters: 400, n_neighbors: 5, distance: euclidean\n",
      "train: 24.804058s\n",
      "test: 1.621482s\n"
     ]
    },
    {
     "data": {
      "image/png": "[encoded data removed]",
      "text/plain": [
       "<Figure size 432x288 with 1 Axes>"
      ]
     },
     "metadata": {
      "needs_background": "light"
     },
     "output_type": "display_data"
    }
   ],
   "source": [
    "results = run_experiment(method=['sift', 'dense_sift'], n_clusters=[80, 400, 25])\n",
    "results_sift = results.loc[results['method'] == 'sift']\n",
    "results_dense_sift = results.loc[results['method'] == 'dense_sift']\n",
    "plt.plot(results_sift['n_clusters'], results_sift['accuracy'], label='sift')\n",
    "plt.plot(results_dense_sift['n_clusters'], results_dense_sift['accuracy'], label='dense_sift')\n",
    "plt.xlabel('n_clusters')\n",
    "plt.ylabel('accuracy')\n",
    "plt.legend(loc='best')\n",
    "plt.show()"
   ]
  },
  {
   "cell_type": "markdown",
   "metadata": {},
   "source": [
    "#### Test different values of k for the k-nn classifier"
   ]
  },
  {
   "cell_type": "code",
   "execution_count": 6,
   "metadata": {
    "scrolled": false
   },
   "outputs": [
    {
     "name": "stdout",
     "output_type": "stream",
     "text": [
      "method: sift, n_features: 300, step_size: 16\n",
      "extract train descriptors: 23.189575s\n",
      "extract test descriptors: 13.501677s\n",
      "n_clusters: 128, n_neighbors: 3, distance: euclidean\n",
      "train: 8.619252s\n",
      "test: 0.883705s\n",
      "n_clusters: 128, n_neighbors: 5, distance: euclidean\n",
      "train: 8.630244s\n",
      "test: 0.883710s\n",
      "n_clusters: 128, n_neighbors: 7, distance: euclidean\n",
      "train: 8.611255s\n",
      "test: 0.880706s\n",
      "n_clusters: 128, n_neighbors: 9, distance: euclidean\n",
      "train: 8.611243s\n",
      "test: 0.881718s\n",
      "n_clusters: 128, n_neighbors: 11, distance: euclidean\n",
      "train: 8.864162s\n",
      "test: 0.878719s\n",
      "n_clusters: 128, n_neighbors: 13, distance: euclidean\n",
      "train: 8.637235s\n",
      "test: 0.886715s\n",
      "n_clusters: 128, n_neighbors: 15, distance: euclidean\n",
      "train: 8.653241s\n",
      "test: 0.887704s\n",
      "n_clusters: 128, n_neighbors: 17, distance: euclidean\n",
      "train: 8.632248s\n",
      "test: 0.884705s\n",
      "n_clusters: 128, n_neighbors: 19, distance: euclidean\n",
      "train: 8.590262s\n",
      "test: 0.885705s\n",
      "n_clusters: 128, n_neighbors: 21, distance: euclidean\n",
      "train: 8.578270s\n",
      "test: 0.873704s\n",
      "method: dense_sift, n_features: 300, step_size: 16\n",
      "extract train descriptors: 262.961806s\n",
      "extract test descriptors: 113.150772s\n",
      "n_clusters: 128, n_neighbors: 3, distance: euclidean\n",
      "train: 7.541598s\n",
      "test: 0.857713s\n",
      "n_clusters: 128, n_neighbors: 5, distance: euclidean\n",
      "train: 7.622559s\n",
      "test: 0.850728s\n",
      "n_clusters: 128, n_neighbors: 7, distance: euclidean\n",
      "train: 7.584584s\n",
      "test: 0.853715s\n",
      "n_clusters: 128, n_neighbors: 9, distance: euclidean\n",
      "train: 7.523603s\n",
      "test: 0.852715s\n",
      "n_clusters: 128, n_neighbors: 11, distance: euclidean\n",
      "train: 7.589570s\n",
      "test: 0.852728s\n",
      "n_clusters: 128, n_neighbors: 13, distance: euclidean\n",
      "train: 7.536587s\n",
      "test: 0.855726s\n",
      "n_clusters: 128, n_neighbors: 15, distance: euclidean\n",
      "train: 7.542585s\n",
      "test: 0.850710s\n",
      "n_clusters: 128, n_neighbors: 17, distance: euclidean\n",
      "train: 7.645552s\n",
      "test: 0.855726s\n",
      "n_clusters: 128, n_neighbors: 19, distance: euclidean\n",
      "train: 7.517603s\n",
      "test: 0.846720s\n",
      "n_clusters: 128, n_neighbors: 21, distance: euclidean\n",
      "train: 7.522591s\n",
      "test: 0.852727s\n"
     ]
    },
    {
     "data": {
      "image/png": "[encoded data removed]",
      "text/plain": [
       "<Figure size 432x288 with 1 Axes>"
      ]
     },
     "metadata": {
      "needs_background": "light"
     },
     "output_type": "display_data"
    }
   ],
   "source": [
    "results = run_experiment(method=['sift', 'dense_sift'], n_neighbors=[3, 21, 10])\n",
    "results_sift = results.loc[results['method'] == 'sift']\n",
    "results_dense_sift = results.loc[results['method'] == 'dense_sift']\n",
    "plt.plot(results_sift['n_neighbors'], results_sift['accuracy'], label='sift')\n",
    "plt.plot(results_dense_sift['n_neighbors'], results_dense_sift['accuracy'], label='dense_sift')\n",
    "plt.xlabel('n_neighbors')\n",
    "plt.ylabel('accuracy')\n",
    "plt.legend(loc='best')\n",
    "plt.show()"
   ]
  },
  {
   "cell_type": "markdown",
   "metadata": {},
   "source": [
    "The number of neighbors must be at least 10 to provide good enough results."
   ]
  },
  {
   "cell_type": "markdown",
   "metadata": {},
   "source": [
    "#### Test different distances for the k-nn classifier"
   ]
  },
  {
   "cell_type": "code",
   "execution_count": 7,
   "metadata": {
    "scrolled": false
   },
   "outputs": [
    {
     "name": "stdout",
     "output_type": "stream",
     "text": [
      "method: sift, n_features: 300, step_size: 16\n",
      "extract train descriptors: 23.339546s\n",
      "extract test descriptors: 13.893518s\n",
      "n_clusters: 128, n_neighbors: 5, distance: euclidean\n",
      "train: 8.664235s\n",
      "test: 0.887704s\n",
      "n_clusters: 128, n_neighbors: 5, distance: manhattan\n",
      "train: 8.539265s\n",
      "test: 0.874720s\n",
      "n_clusters: 128, n_neighbors: 5, distance: chebyshev\n",
      "train: 8.581252s\n",
      "test: 0.886717s\n",
      "method: dense_sift, n_features: 300, step_size: 16\n",
      "extract train descriptors: 262.755537s\n",
      "extract test descriptors: 113.293726s\n",
      "n_clusters: 128, n_neighbors: 5, distance: euclidean\n",
      "train: 7.338650s\n",
      "test: 0.866723s\n",
      "n_clusters: 128, n_neighbors: 5, distance: manhattan\n",
      "train: 7.345648s\n",
      "test: 0.863724s\n",
      "n_clusters: 128, n_neighbors: 5, distance: chebyshev\n",
      "train: 7.385647s\n",
      "test: 0.866723s\n"
     ]
    },
    {
     "data": {
      "image/png": "[encoded data removed]",
      "text/plain": [
       "<Figure size 432x288 with 1 Axes>"
      ]
     },
     "metadata": {
      "needs_background": "light"
     },
     "output_type": "display_data"
    }
   ],
   "source": [
    "results = run_experiment(method=['sift', 'dense_sift'], distance=['euclidean', 'manhattan', 'chebyshev'])\n",
    "results_sift = results.loc[results['method'] == 'sift']\n",
    "results_dense_sift = results.loc[results['method'] == 'dense_sift']\n",
    "x = np.arange(3)\n",
    "plt.bar(x-0.1, results_sift['accuracy'], width=0.2, align='center', label='sift')\n",
    "plt.bar(x+0.1, results_dense_sift['accuracy'], width=0.2, align='center', label='dense_sift')\n",
    "plt.xticks(x, ['euclidean', 'manhattan', 'chebyshev'])\n",
    "plt.xlabel('distance')\n",
    "plt.ylabel('accuracy')\n",
    "plt.legend(loc='best')\n",
    "plt.show()"
   ]
  },
  {
   "cell_type": "markdown",
   "metadata": {},
   "source": [
    "The euclidean distance is clearly the best performing one."
   ]
  },
  {
   "cell_type": "markdown",
   "metadata": {},
   "source": [
    "#### Confusion matrix\n",
    "Finally, we plot the confusion matrix of the best combination of hyperparameters."
   ]
  },
  {
   "cell_type": "code",
   "execution_count": 8,
   "metadata": {},
   "outputs": [
    {
     "name": "stdout",
     "output_type": "stream",
     "text": [
      "method: dense_sift, n_features: 300, step_size: 16\n",
      "extract train descriptors: 259.738837s\n",
      "extract test descriptors: 112.046126s\n",
      "n_clusters: 250, n_neighbors: 11, distance: euclidean\n",
      "train: 14.355415s\n",
      "test: 1.157670s\n"
     ]
    },
    {
     "data": {
      "image/png": "[encoded data removed]",
      "text/plain": [
       "<Figure size 432x288 with 2 Axes>"
      ]
     },
     "metadata": {
      "needs_background": "light"
     },
     "output_type": "display_data"
    },
    {
     "data": {
      "text/html": [
       "<div>\n",
       "<style scoped>\n",
       "    .dataframe tbody tr th:only-of-type {\n",
       "        vertical-align: middle;\n",
       "    }\n",
       "\n",
       "    .dataframe tbody tr th {\n",
       "        vertical-align: top;\n",
       "    }\n",
       "\n",
       "    .dataframe thead th {\n",
       "        text-align: right;\n",
       "    }\n",
       "</style>\n",
       "<table border=\"1\" class=\"dataframe\">\n",
       "  <thead>\n",
       "    <tr style=\"text-align: right;\">\n",
       "      <th></th>\n",
       "      <th>method</th>\n",
       "      <th>distance</th>\n",
       "      <th>n_features</th>\n",
       "      <th>step_size</th>\n",
       "      <th>n_clusters</th>\n",
       "      <th>n_neighbors</th>\n",
       "      <th>accuracy</th>\n",
       "    </tr>\n",
       "  </thead>\n",
       "  <tbody>\n",
       "    <tr>\n",
       "      <th>0</th>\n",
       "      <td>dense_sift</td>\n",
       "      <td>euclidean</td>\n",
       "      <td>300</td>\n",
       "      <td>16</td>\n",
       "      <td>250</td>\n",
       "      <td>11</td>\n",
       "      <td>0.737299</td>\n",
       "    </tr>\n",
       "  </tbody>\n",
       "</table>\n",
       "</div>"
      ],
      "text/plain": [
       "       method   distance  n_features  step_size  n_clusters  n_neighbors  \\\n",
       "0  dense_sift  euclidean         300         16         250           11   \n",
       "\n",
       "   accuracy  \n",
       "0  0.737299  "
      ]
     },
     "execution_count": 8,
     "metadata": {},
     "output_type": "execute_result"
    }
   ],
   "source": [
    "run_experiment(method=['dense_sift'], n_clusters=[250], n_neighbors=[11], distance=['euclidean'], confusion_matrix=True)"
   ]
  }
 ],
 "metadata": {
  "kernelspec": {
   "display_name": "Python 3",
   "language": "python",
   "name": "python3"
  },
  "language_info": {
   "codemirror_mode": {
    "name": "ipython",
    "version": 3
   },
   "file_extension": ".py",
   "mimetype": "text/x-python",
   "name": "python",
   "nbconvert_exporter": "python",
   "pygments_lexer": "ipython3",
   "version": "3.7.1"
  }
 },
 "nbformat": 4,
 "nbformat_minor": 2
}
