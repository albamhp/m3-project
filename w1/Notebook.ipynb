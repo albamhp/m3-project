{
 "cells": [
  {
   "cell_type": "markdown",
   "metadata": {},
   "source": [
    "The source of the algorithm is inside several .py files. Accessing through bovw's run method we can configure the execution in order to iterate over the desired parameters. If a parameter has exactly one value, only that will be use. If it has tree, a np.linspace will be created with them."
   ]
  },
  {
   "cell_type": "code",
   "execution_count": null,
   "metadata": {
    "scrolled": false
   },
   "outputs": [],
   "source": [
    "from bovw import run"
   ]
  },
  {
   "cell_type": "markdown",
   "metadata": {},
   "source": [
    "We use the following default method to run the experiments."
   ]
  },
  {
   "cell_type": "code",
   "execution_count": null,
   "metadata": {
    "scrolled": false
   },
   "outputs": [],
   "source": [
    "from argparse import Namespace\n",
    "import numpy as np\n",
    "from matplotlib import pyplot as plt\n",
    "\n",
    "def run_experiment(method=('sift',), n_features=(300,), step_size=(16,), n_clusters=(128,), n_neighbors=(5,), \n",
    "                   distance=('euclidean',), confusion_matrix=False):\n",
    "    args = Namespace(train_path='../data/MIT_split/train',\n",
    "                     test_path='../data/MIT_split/test',\n",
    "                     method=method,\n",
    "                     n_features=n_features,\n",
    "                     step_size=step_size,\n",
    "                     n_clusters=n_clusters,\n",
    "                     n_neighbors=n_neighbors,\n",
    "                     distance=distance,\n",
    "                     confusion_matrix=confusion_matrix)\n",
    "    return run(args)"
   ]
  },
  {
   "cell_type": "markdown",
   "metadata": {},
   "source": [
    "#### Test different amounts of local features using SIFT\n",
    "If we don't have enough features the results will be bad but if we have too many the computational time will increase too much. We should find a compromise between both."
   ]
  },
  {
   "cell_type": "code",
   "execution_count": null,
   "metadata": {
    "scrolled": false
   },
   "outputs": [],
   "source": [
    "results = run_experiment(n_features=[100, 1000, 10])\n",
    "plt.plot(results['n_features'], results['accuracy'])\n",
    "plt.xlabel('n_features')\n",
    "plt.ylabel('accuracy')\n",
    "plt.show()"
   ]
  },
  {
   "cell_type": "markdown",
   "metadata": {},
   "source": [
    "The accuracy from 500 features onwards is more or less constant. So a value between 500 and 600 should work properly."
   ]
  },
  {
   "cell_type": "markdown",
   "metadata": {},
   "source": [
    "#### SIFT vs DenseSIFT\n",
    "Dense SIFT consists in running SIFT on a dense gird of locations at a fixed scale and orientation. This kind of descriptors have proven to yield better results for image classification tasks."
   ]
  },
  {
   "cell_type": "code",
   "execution_count": null,
   "metadata": {
    "scrolled": false
   },
   "outputs": [],
   "source": [
    "results = run_experiment(method=['sift', 'dense_sift'])\n",
    "x = np.arange(2)\n",
    "plt.bar(x, results['accuracy'])\n",
    "plt.xticks(x, results['method'])\n",
    "plt.xlabel('method')\n",
    "plt.ylabel('accuracy')\n",
    "plt.show()"
   ]
  },
  {
   "cell_type": "markdown",
   "metadata": {},
   "source": [
    "In the graph above, we can crearly observe how `dense_sift` outperforms `sift`."
   ]
  },
  {
   "cell_type": "markdown",
   "metadata": {},
   "source": [
    "#### Test different amounts of codebook sizes k"
   ]
  },
  {
   "cell_type": "code",
   "execution_count": null,
   "metadata": {
    "scrolled": false
   },
   "outputs": [],
   "source": [
    "results = run_experiment(method=['sift', 'dense_sift'], n_clusters=[80, 400, 25])\n",
    "results_sift = results.loc[results['method'] == 'sift']\n",
    "results_dense_sift = results.loc[results['method'] == 'dense_sift']\n",
    "plt.plot(results_sift['n_clusters'], results_sift['accuracy'], label='sift')\n",
    "plt.plot(results_dense_sift['n_clusters'], results_dense_sift['accuracy'], label='dense_sift')\n",
    "plt.xlabel('n_clusters')\n",
    "plt.ylabel('accuracy')\n",
    "plt.legend(loc='best')\n",
    "plt.show()"
   ]
  },
  {
   "cell_type": "markdown",
   "metadata": {},
   "source": [
    "#### Test different values of k for the k-nn classifier"
   ]
  },
  {
   "cell_type": "code",
   "execution_count": null,
   "metadata": {
    "scrolled": false
   },
   "outputs": [],
   "source": [
    "results = run_experiment(method=['sift', 'dense_sift'], n_neighbors=[3, 21, 10])\n",
    "results_sift = results.loc[results['method'] == 'sift']\n",
    "results_dense_sift = results.loc[results['method'] == 'dense_sift']\n",
    "plt.plot(results_sift['n_neighbors'], results_sift['accuracy'], label='sift')\n",
    "plt.plot(results_dense_sift['n_neighbors'], results_dense_sift['accuracy'], label='dense_sift')\n",
    "plt.xlabel('n_neighbors')\n",
    "plt.ylabel('accuracy')\n",
    "plt.legend(loc='best')\n",
    "plt.show()"
   ]
  },
  {
   "cell_type": "markdown",
   "metadata": {},
   "source": [
    "The number of neighbors must be at least 10 to provide good enough results."
   ]
  },
  {
   "cell_type": "markdown",
   "metadata": {},
   "source": [
    "#### Test different distances for the k-nn classifier"
   ]
  },
  {
   "cell_type": "code",
   "execution_count": null,
   "metadata": {
    "scrolled": false
   },
   "outputs": [],
   "source": [
    "results = run_experiment(method=['sift', 'dense_sift'], distance=['euclidean', 'manhattan', 'chebyshev'])\n",
    "results_sift = results.loc[results['method'] == 'sift']\n",
    "results_dense_sift = results.loc[results['method'] == 'dense_sift']\n",
    "x = np.arange(3)\n",
    "plt.bar(x-0.1, results_sift['accuracy'], width=0.2, align='center', label='sift')\n",
    "plt.bar(x+0.1, results_dense_sift['accuracy'], width=0.2, align='center', label='dense_sift')\n",
    "plt.xticks(x, ['euclidean', 'manhattan', 'chebyshev'])\n",
    "plt.xlabel('distance')\n",
    "plt.ylabel('accuracy')\n",
    "plt.legend(loc='best')\n",
    "plt.show()"
   ]
  },
  {
   "cell_type": "markdown",
   "metadata": {},
   "source": [
    "The euclidean distance is clearly the best performing one."
   ]
  },
  {
   "cell_type": "markdown",
   "metadata": {},
   "source": [
    "#### Confusion matrix\n",
    "Finally, we plot the confusion matrix of the best combination of hyperparameters."
   ]
  },
  {
   "cell_type": "code",
   "execution_count": null,
   "metadata": {},
   "outputs": [],
   "source": [
    "run_experiment(method=['dense_sift'], n_clusters=[250], n_neighbors=[11], distance=['euclidean'], confusion_matrix=True)"
   ]
  }
 ],
 "metadata": {
  "kernelspec": {
   "display_name": "Python 3",
   "language": "python",
   "name": "python3"
  },
  "language_info": {
   "codemirror_mode": {
    "name": "ipython",
    "version": 3
   },
   "file_extension": ".py",
   "mimetype": "text/x-python",
   "name": "python",
   "nbconvert_exporter": "python",
   "pygments_lexer": "ipython3",
   "version": "3.6.3"
  }
 },
 "nbformat": 4,
 "nbformat_minor": 2
}
